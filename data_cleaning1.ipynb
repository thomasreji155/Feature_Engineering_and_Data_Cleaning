{
 "metadata": {
  "language_info": {
   "codemirror_mode": {
    "name": "ipython",
    "version": 3
   },
   "file_extension": ".py",
   "mimetype": "text/x-python",
   "name": "python",
   "nbconvert_exporter": "python",
   "pygments_lexer": "ipython3",
   "version": "3.8.5"
  },
  "orig_nbformat": 2,
  "kernelspec": {
   "name": "python3",
   "display_name": "Python 3",
   "language": "python"
  }
 },
 "nbformat": 4,
 "nbformat_minor": 2,
 "cells": [
  {
   "source": [
    "# 1. Importing the Libraries"
   ],
   "cell_type": "markdown",
   "metadata": {}
  },
  {
   "cell_type": "code",
   "execution_count": 1,
   "metadata": {},
   "outputs": [],
   "source": [
    "# importing the libraries \n",
    "import pandas as pd \n",
    "import matplotlib.pyplot as plt \n",
    "import seaborn as sns\n",
    "import numpy as np"
   ]
  },
  {
   "source": [
    "# 2. Data "
   ],
   "cell_type": "markdown",
   "metadata": {}
  },
  {
   "cell_type": "code",
   "execution_count": 5,
   "metadata": {},
   "outputs": [
    {
     "output_type": "execute_result",
     "data": {
      "text/plain": [
       "pandas.core.series.Series"
      ]
     },
     "metadata": {},
     "execution_count": 5
    }
   ],
   "source": [
    "type(df['gender'].mode())"
   ]
  },
  {
   "source": [
    "## * Loading the data"
   ],
   "cell_type": "markdown",
   "metadata": {}
  },
  {
   "cell_type": "code",
   "execution_count": 2,
   "metadata": {},
   "outputs": [
    {
     "output_type": "execute_result",
     "data": {
      "text/plain": [
       "   enrollee_id      city  city_development_index  gender  \\\n",
       "0        32403   city_41                   0.827    Male   \n",
       "1         9858  city_103                   0.920  Female   \n",
       "2        31806   city_21                   0.624    Male   \n",
       "3        27385   city_13                   0.827    Male   \n",
       "4        27724  city_103                   0.920    Male   \n",
       "\n",
       "       relevent_experience enrolled_university education_level  \\\n",
       "0  Has relevent experience    Full time course        Graduate   \n",
       "1  Has relevent experience       no_enrollment        Graduate   \n",
       "2   No relevent experience       no_enrollment     High School   \n",
       "3  Has relevent experience       no_enrollment         Masters   \n",
       "4  Has relevent experience       no_enrollment        Graduate   \n",
       "\n",
       "  major_discipline experience company_size company_type last_new_job  \\\n",
       "0             STEM          9          <10          NaN            1   \n",
       "1             STEM          5          NaN      Pvt Ltd            1   \n",
       "2              NaN         <1          NaN      Pvt Ltd        never   \n",
       "3             STEM         11       Oct-49      Pvt Ltd            1   \n",
       "4             STEM        >20       10000+      Pvt Ltd           >4   \n",
       "\n",
       "   training_hours  \n",
       "0            21.0  \n",
       "1            98.0  \n",
       "2            15.0  \n",
       "3            39.0  \n",
       "4            72.0  "
      ],
      "text/html": "<div>\n<style scoped>\n    .dataframe tbody tr th:only-of-type {\n        vertical-align: middle;\n    }\n\n    .dataframe tbody tr th {\n        vertical-align: top;\n    }\n\n    .dataframe thead th {\n        text-align: right;\n    }\n</style>\n<table border=\"1\" class=\"dataframe\">\n  <thead>\n    <tr style=\"text-align: right;\">\n      <th></th>\n      <th>enrollee_id</th>\n      <th>city</th>\n      <th>city_development_index</th>\n      <th>gender</th>\n      <th>relevent_experience</th>\n      <th>enrolled_university</th>\n      <th>education_level</th>\n      <th>major_discipline</th>\n      <th>experience</th>\n      <th>company_size</th>\n      <th>company_type</th>\n      <th>last_new_job</th>\n      <th>training_hours</th>\n    </tr>\n  </thead>\n  <tbody>\n    <tr>\n      <th>0</th>\n      <td>32403</td>\n      <td>city_41</td>\n      <td>0.827</td>\n      <td>Male</td>\n      <td>Has relevent experience</td>\n      <td>Full time course</td>\n      <td>Graduate</td>\n      <td>STEM</td>\n      <td>9</td>\n      <td>&lt;10</td>\n      <td>NaN</td>\n      <td>1</td>\n      <td>21.0</td>\n    </tr>\n    <tr>\n      <th>1</th>\n      <td>9858</td>\n      <td>city_103</td>\n      <td>0.920</td>\n      <td>Female</td>\n      <td>Has relevent experience</td>\n      <td>no_enrollment</td>\n      <td>Graduate</td>\n      <td>STEM</td>\n      <td>5</td>\n      <td>NaN</td>\n      <td>Pvt Ltd</td>\n      <td>1</td>\n      <td>98.0</td>\n    </tr>\n    <tr>\n      <th>2</th>\n      <td>31806</td>\n      <td>city_21</td>\n      <td>0.624</td>\n      <td>Male</td>\n      <td>No relevent experience</td>\n      <td>no_enrollment</td>\n      <td>High School</td>\n      <td>NaN</td>\n      <td>&lt;1</td>\n      <td>NaN</td>\n      <td>Pvt Ltd</td>\n      <td>never</td>\n      <td>15.0</td>\n    </tr>\n    <tr>\n      <th>3</th>\n      <td>27385</td>\n      <td>city_13</td>\n      <td>0.827</td>\n      <td>Male</td>\n      <td>Has relevent experience</td>\n      <td>no_enrollment</td>\n      <td>Masters</td>\n      <td>STEM</td>\n      <td>11</td>\n      <td>Oct-49</td>\n      <td>Pvt Ltd</td>\n      <td>1</td>\n      <td>39.0</td>\n    </tr>\n    <tr>\n      <th>4</th>\n      <td>27724</td>\n      <td>city_103</td>\n      <td>0.920</td>\n      <td>Male</td>\n      <td>Has relevent experience</td>\n      <td>no_enrollment</td>\n      <td>Graduate</td>\n      <td>STEM</td>\n      <td>&gt;20</td>\n      <td>10000+</td>\n      <td>Pvt Ltd</td>\n      <td>&gt;4</td>\n      <td>72.0</td>\n    </tr>\n  </tbody>\n</table>\n</div>"
     },
     "metadata": {},
     "execution_count": 2
    }
   ],
   "source": [
    "# loading the data \n",
    "df = pd.read_csv(\"F:\\my_folders\\DATA\\lab2.csv\")\n",
    "\n",
    "# viewing the head \n",
    "df.head()"
   ]
  },
  {
   "cell_type": "code",
   "execution_count": 3,
   "metadata": {},
   "outputs": [],
   "source": [
    "import copy\n",
    "\n",
    "df_bays = copy.deepcopy(df)"
   ]
  },
  {
   "cell_type": "code",
   "execution_count": 5,
   "metadata": {},
   "outputs": [],
   "source": [
    "df_bays.dropna(inplace = True)"
   ]
  },
  {
   "cell_type": "code",
   "execution_count": 10,
   "metadata": {},
   "outputs": [
    {
     "output_type": "execute_result",
     "data": {
      "text/plain": [
       "    enrollee_id      city  city_development_index gender  \\\n",
       "3         27385   city_13                   0.827   Male   \n",
       "4         27724  city_103                   0.920   Male   \n",
       "11         9272   city_90                   0.698   Male   \n",
       "12        14249   city_46                   0.762   Male   \n",
       "16         7865   city_21                   0.624   Male   \n",
       "\n",
       "        relevent_experience enrolled_university education_level  \\\n",
       "3   Has relevent experience       no_enrollment         Masters   \n",
       "4   Has relevent experience       no_enrollment        Graduate   \n",
       "11  Has relevent experience       no_enrollment        Graduate   \n",
       "12  Has relevent experience       no_enrollment        Graduate   \n",
       "16  Has relevent experience       no_enrollment         Masters   \n",
       "\n",
       "   major_discipline experience company_size company_type last_new_job  \\\n",
       "3              STEM         11       Oct-49      Pvt Ltd            1   \n",
       "4              STEM        >20       10000+      Pvt Ltd           >4   \n",
       "11             STEM         20       Oct-49      Pvt Ltd            2   \n",
       "12             STEM          8      100-500        Other        never   \n",
       "16             STEM          4      100-500      Pvt Ltd            1   \n",
       "\n",
       "    training_hours  \n",
       "3             39.0  \n",
       "4             72.0  \n",
       "11            51.0  \n",
       "12            48.0  \n",
       "16             4.0  "
      ],
      "text/html": "<div>\n<style scoped>\n    .dataframe tbody tr th:only-of-type {\n        vertical-align: middle;\n    }\n\n    .dataframe tbody tr th {\n        vertical-align: top;\n    }\n\n    .dataframe thead th {\n        text-align: right;\n    }\n</style>\n<table border=\"1\" class=\"dataframe\">\n  <thead>\n    <tr style=\"text-align: right;\">\n      <th></th>\n      <th>enrollee_id</th>\n      <th>city</th>\n      <th>city_development_index</th>\n      <th>gender</th>\n      <th>relevent_experience</th>\n      <th>enrolled_university</th>\n      <th>education_level</th>\n      <th>major_discipline</th>\n      <th>experience</th>\n      <th>company_size</th>\n      <th>company_type</th>\n      <th>last_new_job</th>\n      <th>training_hours</th>\n    </tr>\n  </thead>\n  <tbody>\n    <tr>\n      <th>3</th>\n      <td>27385</td>\n      <td>city_13</td>\n      <td>0.827</td>\n      <td>Male</td>\n      <td>Has relevent experience</td>\n      <td>no_enrollment</td>\n      <td>Masters</td>\n      <td>STEM</td>\n      <td>11</td>\n      <td>Oct-49</td>\n      <td>Pvt Ltd</td>\n      <td>1</td>\n      <td>39.0</td>\n    </tr>\n    <tr>\n      <th>4</th>\n      <td>27724</td>\n      <td>city_103</td>\n      <td>0.920</td>\n      <td>Male</td>\n      <td>Has relevent experience</td>\n      <td>no_enrollment</td>\n      <td>Graduate</td>\n      <td>STEM</td>\n      <td>&gt;20</td>\n      <td>10000+</td>\n      <td>Pvt Ltd</td>\n      <td>&gt;4</td>\n      <td>72.0</td>\n    </tr>\n    <tr>\n      <th>11</th>\n      <td>9272</td>\n      <td>city_90</td>\n      <td>0.698</td>\n      <td>Male</td>\n      <td>Has relevent experience</td>\n      <td>no_enrollment</td>\n      <td>Graduate</td>\n      <td>STEM</td>\n      <td>20</td>\n      <td>Oct-49</td>\n      <td>Pvt Ltd</td>\n      <td>2</td>\n      <td>51.0</td>\n    </tr>\n    <tr>\n      <th>12</th>\n      <td>14249</td>\n      <td>city_46</td>\n      <td>0.762</td>\n      <td>Male</td>\n      <td>Has relevent experience</td>\n      <td>no_enrollment</td>\n      <td>Graduate</td>\n      <td>STEM</td>\n      <td>8</td>\n      <td>100-500</td>\n      <td>Other</td>\n      <td>never</td>\n      <td>48.0</td>\n    </tr>\n    <tr>\n      <th>16</th>\n      <td>7865</td>\n      <td>city_21</td>\n      <td>0.624</td>\n      <td>Male</td>\n      <td>Has relevent experience</td>\n      <td>no_enrollment</td>\n      <td>Masters</td>\n      <td>STEM</td>\n      <td>4</td>\n      <td>100-500</td>\n      <td>Pvt Ltd</td>\n      <td>1</td>\n      <td>4.0</td>\n    </tr>\n  </tbody>\n</table>\n</div>"
     },
     "metadata": {},
     "execution_count": 10
    }
   ],
   "source": [
    "df_bays.head()"
   ]
  },
  {
   "cell_type": "code",
   "execution_count": 11,
   "metadata": {},
   "outputs": [],
   "source": [
    "from sklearn.naive_bayes import CategoricalNB \n"
   ]
  },
  {
   "cell_type": "code",
   "execution_count": 13,
   "metadata": {},
   "outputs": [],
   "source": [
    "df_bays.drop(['enrollee_id','city','city_development_index','training_hours'],inplace = True,axis = 1)"
   ]
  },
  {
   "cell_type": "code",
   "execution_count": 15,
   "metadata": {},
   "outputs": [],
   "source": [
    "df_b_enc = pd.get_dummies(df_bays)"
   ]
  },
  {
   "cell_type": "code",
   "execution_count": 16,
   "metadata": {},
   "outputs": [
    {
     "output_type": "execute_result",
     "data": {
      "text/plain": [
       "      gender_Female  gender_Male  gender_Other  \\\n",
       "3                 0            1             0   \n",
       "4                 0            1             0   \n",
       "11                0            1             0   \n",
       "12                0            1             0   \n",
       "16                0            1             0   \n",
       "...             ...          ...           ...   \n",
       "2113              0            1             0   \n",
       "2115              0            1             0   \n",
       "2117              0            1             0   \n",
       "2121              0            1             0   \n",
       "2128              0            1             0   \n",
       "\n",
       "      relevent_experience_Has relevent experience  \\\n",
       "3                                               1   \n",
       "4                                               1   \n",
       "11                                              1   \n",
       "12                                              1   \n",
       "16                                              1   \n",
       "...                                           ...   \n",
       "2113                                            1   \n",
       "2115                                            1   \n",
       "2117                                            0   \n",
       "2121                                            0   \n",
       "2128                                            1   \n",
       "\n",
       "      relevent_experience_No relevent experience  \\\n",
       "3                                              0   \n",
       "4                                              0   \n",
       "11                                             0   \n",
       "12                                             0   \n",
       "16                                             0   \n",
       "...                                          ...   \n",
       "2113                                           0   \n",
       "2115                                           0   \n",
       "2117                                           1   \n",
       "2121                                           1   \n",
       "2128                                           0   \n",
       "\n",
       "      enrolled_university_Full time course  \\\n",
       "3                                        0   \n",
       "4                                        0   \n",
       "11                                       0   \n",
       "12                                       0   \n",
       "16                                       0   \n",
       "...                                    ...   \n",
       "2113                                     0   \n",
       "2115                                     0   \n",
       "2117                                     0   \n",
       "2121                                     0   \n",
       "2128                                     0   \n",
       "\n",
       "      enrolled_university_Part time course  enrolled_university_no_enrollment  \\\n",
       "3                                        0                                  1   \n",
       "4                                        0                                  1   \n",
       "11                                       0                                  1   \n",
       "12                                       0                                  1   \n",
       "16                                       0                                  1   \n",
       "...                                    ...                                ...   \n",
       "2113                                     0                                  1   \n",
       "2115                                     0                                  1   \n",
       "2117                                     1                                  0   \n",
       "2121                                     0                                  1   \n",
       "2128                                     0                                  1   \n",
       "\n",
       "      education_level_Graduate  education_level_Masters  ...  \\\n",
       "3                            0                        1  ...   \n",
       "4                            1                        0  ...   \n",
       "11                           1                        0  ...   \n",
       "12                           1                        0  ...   \n",
       "16                           0                        1  ...   \n",
       "...                        ...                      ...  ...   \n",
       "2113                         1                        0  ...   \n",
       "2115                         1                        0  ...   \n",
       "2117                         1                        0  ...   \n",
       "2121                         0                        1  ...   \n",
       "2128                         0                        1  ...   \n",
       "\n",
       "      company_type_NGO  company_type_Other  company_type_Public Sector  \\\n",
       "3                    0                   0                           0   \n",
       "4                    0                   0                           0   \n",
       "11                   0                   0                           0   \n",
       "12                   0                   1                           0   \n",
       "16                   0                   0                           0   \n",
       "...                ...                 ...                         ...   \n",
       "2113                 0                   0                           1   \n",
       "2115                 0                   0                           0   \n",
       "2117                 0                   0                           0   \n",
       "2121                 0                   0                           0   \n",
       "2128                 0                   0                           0   \n",
       "\n",
       "      company_type_Pvt Ltd  last_new_job_1  last_new_job_2  last_new_job_3  \\\n",
       "3                        1               1               0               0   \n",
       "4                        1               0               0               0   \n",
       "11                       1               0               1               0   \n",
       "12                       0               0               0               0   \n",
       "16                       1               1               0               0   \n",
       "...                    ...             ...             ...             ...   \n",
       "2113                     0               1               0               0   \n",
       "2115                     1               1               0               0   \n",
       "2117                     0               0               0               0   \n",
       "2121                     1               0               0               0   \n",
       "2128                     1               0               1               0   \n",
       "\n",
       "      last_new_job_4  last_new_job_>4  last_new_job_never  \n",
       "3                  0                0                   0  \n",
       "4                  0                1                   0  \n",
       "11                 0                0                   0  \n",
       "12                 0                0                   1  \n",
       "16                 0                0                   0  \n",
       "...              ...              ...                 ...  \n",
       "2113               0                0                   0  \n",
       "2115               0                0                   0  \n",
       "2117               0                0                   1  \n",
       "2121               0                1                   0  \n",
       "2128               0                0                   0  \n",
       "\n",
       "[1003 rows x 59 columns]"
      ],
      "text/html": "<div>\n<style scoped>\n    .dataframe tbody tr th:only-of-type {\n        vertical-align: middle;\n    }\n\n    .dataframe tbody tr th {\n        vertical-align: top;\n    }\n\n    .dataframe thead th {\n        text-align: right;\n    }\n</style>\n<table border=\"1\" class=\"dataframe\">\n  <thead>\n    <tr style=\"text-align: right;\">\n      <th></th>\n      <th>gender_Female</th>\n      <th>gender_Male</th>\n      <th>gender_Other</th>\n      <th>relevent_experience_Has relevent experience</th>\n      <th>relevent_experience_No relevent experience</th>\n      <th>enrolled_university_Full time course</th>\n      <th>enrolled_university_Part time course</th>\n      <th>enrolled_university_no_enrollment</th>\n      <th>education_level_Graduate</th>\n      <th>education_level_Masters</th>\n      <th>...</th>\n      <th>company_type_NGO</th>\n      <th>company_type_Other</th>\n      <th>company_type_Public Sector</th>\n      <th>company_type_Pvt Ltd</th>\n      <th>last_new_job_1</th>\n      <th>last_new_job_2</th>\n      <th>last_new_job_3</th>\n      <th>last_new_job_4</th>\n      <th>last_new_job_&gt;4</th>\n      <th>last_new_job_never</th>\n    </tr>\n  </thead>\n  <tbody>\n    <tr>\n      <th>3</th>\n      <td>0</td>\n      <td>1</td>\n      <td>0</td>\n      <td>1</td>\n      <td>0</td>\n      <td>0</td>\n      <td>0</td>\n      <td>1</td>\n      <td>0</td>\n      <td>1</td>\n      <td>...</td>\n      <td>0</td>\n      <td>0</td>\n      <td>0</td>\n      <td>1</td>\n      <td>1</td>\n      <td>0</td>\n      <td>0</td>\n      <td>0</td>\n      <td>0</td>\n      <td>0</td>\n    </tr>\n    <tr>\n      <th>4</th>\n      <td>0</td>\n      <td>1</td>\n      <td>0</td>\n      <td>1</td>\n      <td>0</td>\n      <td>0</td>\n      <td>0</td>\n      <td>1</td>\n      <td>1</td>\n      <td>0</td>\n      <td>...</td>\n      <td>0</td>\n      <td>0</td>\n      <td>0</td>\n      <td>1</td>\n      <td>0</td>\n      <td>0</td>\n      <td>0</td>\n      <td>0</td>\n      <td>1</td>\n      <td>0</td>\n    </tr>\n    <tr>\n      <th>11</th>\n      <td>0</td>\n      <td>1</td>\n      <td>0</td>\n      <td>1</td>\n      <td>0</td>\n      <td>0</td>\n      <td>0</td>\n      <td>1</td>\n      <td>1</td>\n      <td>0</td>\n      <td>...</td>\n      <td>0</td>\n      <td>0</td>\n      <td>0</td>\n      <td>1</td>\n      <td>0</td>\n      <td>1</td>\n      <td>0</td>\n      <td>0</td>\n      <td>0</td>\n      <td>0</td>\n    </tr>\n    <tr>\n      <th>12</th>\n      <td>0</td>\n      <td>1</td>\n      <td>0</td>\n      <td>1</td>\n      <td>0</td>\n      <td>0</td>\n      <td>0</td>\n      <td>1</td>\n      <td>1</td>\n      <td>0</td>\n      <td>...</td>\n      <td>0</td>\n      <td>1</td>\n      <td>0</td>\n      <td>0</td>\n      <td>0</td>\n      <td>0</td>\n      <td>0</td>\n      <td>0</td>\n      <td>0</td>\n      <td>1</td>\n    </tr>\n    <tr>\n      <th>16</th>\n      <td>0</td>\n      <td>1</td>\n      <td>0</td>\n      <td>1</td>\n      <td>0</td>\n      <td>0</td>\n      <td>0</td>\n      <td>1</td>\n      <td>0</td>\n      <td>1</td>\n      <td>...</td>\n      <td>0</td>\n      <td>0</td>\n      <td>0</td>\n      <td>1</td>\n      <td>1</td>\n      <td>0</td>\n      <td>0</td>\n      <td>0</td>\n      <td>0</td>\n      <td>0</td>\n    </tr>\n    <tr>\n      <th>...</th>\n      <td>...</td>\n      <td>...</td>\n      <td>...</td>\n      <td>...</td>\n      <td>...</td>\n      <td>...</td>\n      <td>...</td>\n      <td>...</td>\n      <td>...</td>\n      <td>...</td>\n      <td>...</td>\n      <td>...</td>\n      <td>...</td>\n      <td>...</td>\n      <td>...</td>\n      <td>...</td>\n      <td>...</td>\n      <td>...</td>\n      <td>...</td>\n      <td>...</td>\n      <td>...</td>\n    </tr>\n    <tr>\n      <th>2113</th>\n      <td>0</td>\n      <td>1</td>\n      <td>0</td>\n      <td>1</td>\n      <td>0</td>\n      <td>0</td>\n      <td>0</td>\n      <td>1</td>\n      <td>1</td>\n      <td>0</td>\n      <td>...</td>\n      <td>0</td>\n      <td>0</td>\n      <td>1</td>\n      <td>0</td>\n      <td>1</td>\n      <td>0</td>\n      <td>0</td>\n      <td>0</td>\n      <td>0</td>\n      <td>0</td>\n    </tr>\n    <tr>\n      <th>2115</th>\n      <td>0</td>\n      <td>1</td>\n      <td>0</td>\n      <td>1</td>\n      <td>0</td>\n      <td>0</td>\n      <td>0</td>\n      <td>1</td>\n      <td>1</td>\n      <td>0</td>\n      <td>...</td>\n      <td>0</td>\n      <td>0</td>\n      <td>0</td>\n      <td>1</td>\n      <td>1</td>\n      <td>0</td>\n      <td>0</td>\n      <td>0</td>\n      <td>0</td>\n      <td>0</td>\n    </tr>\n    <tr>\n      <th>2117</th>\n      <td>0</td>\n      <td>1</td>\n      <td>0</td>\n      <td>0</td>\n      <td>1</td>\n      <td>0</td>\n      <td>1</td>\n      <td>0</td>\n      <td>1</td>\n      <td>0</td>\n      <td>...</td>\n      <td>0</td>\n      <td>0</td>\n      <td>0</td>\n      <td>0</td>\n      <td>0</td>\n      <td>0</td>\n      <td>0</td>\n      <td>0</td>\n      <td>0</td>\n      <td>1</td>\n    </tr>\n    <tr>\n      <th>2121</th>\n      <td>0</td>\n      <td>1</td>\n      <td>0</td>\n      <td>0</td>\n      <td>1</td>\n      <td>0</td>\n      <td>0</td>\n      <td>1</td>\n      <td>0</td>\n      <td>1</td>\n      <td>...</td>\n      <td>0</td>\n      <td>0</td>\n      <td>0</td>\n      <td>1</td>\n      <td>0</td>\n      <td>0</td>\n      <td>0</td>\n      <td>0</td>\n      <td>1</td>\n      <td>0</td>\n    </tr>\n    <tr>\n      <th>2128</th>\n      <td>0</td>\n      <td>1</td>\n      <td>0</td>\n      <td>1</td>\n      <td>0</td>\n      <td>0</td>\n      <td>0</td>\n      <td>1</td>\n      <td>0</td>\n      <td>1</td>\n      <td>...</td>\n      <td>0</td>\n      <td>0</td>\n      <td>0</td>\n      <td>1</td>\n      <td>0</td>\n      <td>1</td>\n      <td>0</td>\n      <td>0</td>\n      <td>0</td>\n      <td>0</td>\n    </tr>\n  </tbody>\n</table>\n<p>1003 rows × 59 columns</p>\n</div>"
     },
     "metadata": {},
     "execution_count": 16
    }
   ],
   "source": [
    "df_b_enc"
   ]
  },
  {
   "cell_type": "code",
   "execution_count": null,
   "metadata": {},
   "outputs": [],
   "source": []
  },
  {
   "cell_type": "code",
   "execution_count": null,
   "metadata": {},
   "outputs": [],
   "source": []
  },
  {
   "cell_type": "code",
   "execution_count": null,
   "metadata": {},
   "outputs": [],
   "source": []
  },
  {
   "cell_type": "code",
   "execution_count": null,
   "metadata": {},
   "outputs": [],
   "source": []
  },
  {
   "cell_type": "code",
   "execution_count": null,
   "metadata": {},
   "outputs": [],
   "source": []
  },
  {
   "source": [
    "###  * Checking the data types and shape"
   ],
   "cell_type": "markdown",
   "metadata": {}
  },
  {
   "cell_type": "code",
   "execution_count": 671,
   "metadata": {},
   "outputs": [
    {
     "output_type": "stream",
     "name": "stdout",
     "text": [
      "enrollee_id                 int64\ncity                       object\ncity_development_index    float64\ngender                     object\nrelevent_experience        object\nenrolled_university        object\neducation_level            object\nmajor_discipline           object\nexperience                 object\ncompany_size               object\ncompany_type               object\nlast_new_job               object\ntraining_hours            float64\ndtype: object\n(2129, 13)\n"
     ]
    }
   ],
   "source": [
    "# checking the type of each column in df\n",
    "print(df.dtypes)\n",
    "\n",
    "# lets check the length of dataset \n",
    "print(df.shape)"
   ]
  },
  {
   "source": [
    "# 3. Handling Missing Values and labels "
   ],
   "cell_type": "markdown",
   "metadata": {}
  },
  {
   "cell_type": "code",
   "execution_count": 672,
   "metadata": {},
   "outputs": [
    {
     "output_type": "execute_result",
     "data": {
      "text/plain": [
       "enrollee_id                 0\n",
       "city                        0\n",
       "city_development_index      3\n",
       "gender                    508\n",
       "relevent_experience        20\n",
       "enrolled_university        41\n",
       "education_level            63\n",
       "major_discipline          312\n",
       "experience                  5\n",
       "company_size              622\n",
       "company_type              634\n",
       "last_new_job               40\n",
       "training_hours             20\n",
       "dtype: int64"
      ]
     },
     "metadata": {},
     "execution_count": 672
    }
   ],
   "source": [
    "# finding the total number of null values in the df \n",
    "df.isnull().sum()"
   ]
  },
  {
   "source": [
    "###  * city_development_index"
   ],
   "cell_type": "markdown",
   "metadata": {}
  },
  {
   "cell_type": "code",
   "execution_count": 673,
   "metadata": {},
   "outputs": [],
   "source": [
    "# getting values \n",
    "ct_73 = df['city_development_index'][df['city' ]== 'city_73'].mode()[0]    # value for city_73\n",
    "ct_45 = df['city_development_index'][df['city' ]== 'city_45'].mode()[0]    # value for city_45\n",
    "ct_114 = df['city_development_index'][df['city' ]== 'city_114'].mode()[0]    # value for city_114\n",
    "\n",
    " \n",
    "df['city_development_index'][30] = ct_73\n",
    "df['city_development_index'][40] = ct_45\n",
    "df['city_development_index'][92] = ct_114"
   ]
  },
  {
   "source": [
    "###  * relevent_experience, education_level,major_discipline, enrolled_university, gender "
   ],
   "cell_type": "markdown",
   "metadata": {}
  },
  {
   "cell_type": "code",
   "execution_count": 674,
   "metadata": {},
   "outputs": [],
   "source": [
    "\n",
    "# we can see that the relevant experience value count is suffienctly large so lets the fill the missing\n",
    "df.relevent_experience.fillna('Has relevent experience',inplace=  True)\n",
    "\n",
    "# replacing missing education level with mode ( 63 values ) \n",
    "df.education_level.fillna(df.education_level.mode()[0],inplace = True)\n",
    "\n",
    "\n",
    "# replacign missing values in major discipline using mode \n",
    "df.major_discipline.fillna(df.major_discipline.mode()[0], inplace = True)\n",
    "\n",
    "# replacing missing values in enrolled university feature using mode\n",
    "df.enrolled_university.fillna(df.enrolled_university.mode()[0],inplace = True)\n",
    "\n",
    "# replacing nan values in gender with missing \n",
    "df.gender.fillna('Missing',inplace= True)"
   ]
  },
  {
   "source": [
    "###  * company_size feature"
   ],
   "cell_type": "markdown",
   "metadata": {}
  },
  {
   "cell_type": "code",
   "execution_count": 675,
   "metadata": {},
   "outputs": [],
   "source": [
    "# converting company size to numericals - \n",
    "def convert_cmp_size(val_string):\n",
    "    if val_string == '<10':\n",
    "        return 1\n",
    "    if val_string == \"Oct-49\":\n",
    "        return 2\n",
    "    if val_string == '50-99':\n",
    "        return 3\n",
    "    if val_string == '100-500':\n",
    "        return 4\n",
    "    if val_string == '500-999':\n",
    "        return 5\n",
    "    if val_string == '1000-4999':\n",
    "        return 6\n",
    "    if val_string == \"5000-9999\":\n",
    "        return 7\n",
    "    if val_string == \"10000+\":\n",
    "        return 8\n",
    "df['company_size'] = df['company_size'].apply(convert_cmp_size)\n",
    "\n",
    "\n",
    "# filling company size by 4 \n",
    "df.company_size.fillna(4,inplace = True)\n"
   ]
  },
  {
   "source": [
    "### * experience feature "
   ],
   "cell_type": "markdown",
   "metadata": {}
  },
  {
   "cell_type": "code",
   "execution_count": 676,
   "metadata": {},
   "outputs": [],
   "source": [
    "# replacing missing experience with mode ( 5 values)\n",
    "df.experience.fillna(df.experience.mode()[0],inplace= True)\n",
    "\n",
    "# creating a function to handle the special values in experience column \n",
    "def experience_imputer(data):\n",
    "    if data  == '<1':\n",
    "        return 0\n",
    "    if data == '>20':\n",
    "        return 21\n",
    "    else:\n",
    "        return data \n",
    "\n",
    "# applying the function into experience column feature \n",
    "df.experience = df.experience.apply(experience_imputer)\n",
    "\n",
    "# converting the object data type to numerical \n",
    "df.experience = df.experience.astype(int)\n"
   ]
  },
  {
   "cell_type": "code",
   "execution_count": 677,
   "metadata": {},
   "outputs": [],
   "source": [
    "# df_new = df.dropna()\n",
    "# df_new.experience = df_new.experience.astype(int)\n",
    "# data = df_new[['experience','company_size']]\n",
    "# correlation = data.corr(method='pearson')\n",
    "# correlation           # so experience and company size are nor correlated so lets repalce it with a median size "
   ]
  },
  {
   "source": [
    "### * company_size"
   ],
   "cell_type": "markdown",
   "metadata": {}
  },
  {
   "cell_type": "code",
   "execution_count": 678,
   "metadata": {},
   "outputs": [],
   "source": [
    "\n",
    "\n",
    "# filling company_type missing values by unkn_type \n",
    "df.company_type.fillna('Unkn_type', inplace = True)\n",
    "\n",
    "# changing the datatype \n",
    "df.company_size = df.company_size.astype(int)\n",
    "\n"
   ]
  },
  {
   "source": [
    "###     * last_new_job feature "
   ],
   "cell_type": "markdown",
   "metadata": {}
  },
  {
   "cell_type": "code",
   "execution_count": 679,
   "metadata": {},
   "outputs": [],
   "source": [
    "\n",
    "# replacing missing last_new_job values with mode ( 40 values )\n",
    "df.last_new_job.fillna(df.last_new_job.mode()[0],inplace=True)\n",
    "\n",
    "\n",
    "# converting last_new_job feature into numerical \n",
    "def last_job(data):\n",
    "    if data == \">4\":\n",
    "        return 5\n",
    "    if data == 'never':\n",
    "        return 0\n",
    "    else:\n",
    "        return data\n",
    "df.last_new_job = df.last_new_job.apply(last_job)\n",
    "df.last_new_job = df.last_new_job.astype(int)"
   ]
  },
  {
   "source": [
    "# 4. Handling ouriers"
   ],
   "cell_type": "markdown",
   "metadata": {}
  },
  {
   "cell_type": "code",
   "execution_count": 680,
   "metadata": {},
   "outputs": [
    {
     "output_type": "stream",
     "name": "stdout",
     "text": [
      "median_trainin_hours for male =  48.0\nmedian_trainin_hours for female =  42.0\n"
     ]
    }
   ],
   "source": [
    "# finding the median training hours for males - we interested in median bcs training_hours column has a lot of outliers\n",
    "print('median_trainin_hours for male = ',df[df['gender']=='Male']['training_hours'].median())\n",
    "print('median_trainin_hours for female = ',df[df['gender']=='Female']['training_hours'].median())\n",
    "\n",
    "df.training_hours.fillna(45,inplace = True)\n",
    "\n",
    "# fixing the outliers in training_hours\n",
    "def fix_out(data):\n",
    "    if data> 140:\n",
    "        return df.training_hours.median()\n",
    "    else:\n",
    "        return data\n",
    "\n",
    "\n",
    "# applying the function \n",
    "df.training_hours = df.training_hours.apply(fix_out)"
   ]
  },
  {
   "source": [
    "# 5. Droping unecessary features "
   ],
   "cell_type": "markdown",
   "metadata": {}
  },
  {
   "cell_type": "code",
   "execution_count": 681,
   "metadata": {},
   "outputs": [],
   "source": [
    "\n",
    "# droping id column \n",
    "df.drop('enrollee_id',axis = 1,inplace = True)\n",
    "\n",
    "\n",
    "# droping city column - unecessary \n",
    "df.drop('city', inplace= True, axis = 1)"
   ]
  },
  {
   "source": [
    "# 6. Dummy Encoding for categorical variables "
   ],
   "cell_type": "markdown",
   "metadata": {}
  },
  {
   "cell_type": "code",
   "execution_count": 682,
   "metadata": {},
   "outputs": [],
   "source": [
    "\n",
    "cat_features = df.drop(['city_development_index','experience','company_size','last_new_job','training_hours'] , axis = 1).columns\n",
    "\n",
    "enc_df = pd.get_dummies(df[cat_features])\n",
    "\n",
    "\n",
    "enc_final = enc_df.drop(['gender_Missing','relevent_experience_No relevent experience','enrolled_university_no_enrollment','education_level_Phd','major_discipline_Other', 'company_type_Other'],axis =1)"
   ]
  },
  {
   "cell_type": "code",
   "execution_count": 683,
   "metadata": {},
   "outputs": [
    {
     "output_type": "execute_result",
     "data": {
      "text/plain": [
       "   city_development_index  experience  ...  last_new_job  training_hours\n",
       "0                   0.827           9  ...             1            21.0\n",
       "1                   0.920           5  ...             1            98.0\n",
       "2                   0.624           0  ...             0            15.0\n",
       "3                   0.827          11  ...             1            39.0\n",
       "4                   0.920          21  ...             5            72.0\n",
       "\n",
       "[5 rows x 5 columns]"
      ],
      "text/html": "<div>\n<style scoped>\n    .dataframe tbody tr th:only-of-type {\n        vertical-align: middle;\n    }\n\n    .dataframe tbody tr th {\n        vertical-align: top;\n    }\n\n    .dataframe thead th {\n        text-align: right;\n    }\n</style>\n<table border=\"1\" class=\"dataframe\">\n  <thead>\n    <tr style=\"text-align: right;\">\n      <th></th>\n      <th>city_development_index</th>\n      <th>experience</th>\n      <th>company_size</th>\n      <th>last_new_job</th>\n      <th>training_hours</th>\n    </tr>\n  </thead>\n  <tbody>\n    <tr>\n      <th>0</th>\n      <td>0.827</td>\n      <td>9</td>\n      <td>1</td>\n      <td>1</td>\n      <td>21.0</td>\n    </tr>\n    <tr>\n      <th>1</th>\n      <td>0.920</td>\n      <td>5</td>\n      <td>4</td>\n      <td>1</td>\n      <td>98.0</td>\n    </tr>\n    <tr>\n      <th>2</th>\n      <td>0.624</td>\n      <td>0</td>\n      <td>4</td>\n      <td>0</td>\n      <td>15.0</td>\n    </tr>\n    <tr>\n      <th>3</th>\n      <td>0.827</td>\n      <td>11</td>\n      <td>2</td>\n      <td>1</td>\n      <td>39.0</td>\n    </tr>\n    <tr>\n      <th>4</th>\n      <td>0.920</td>\n      <td>21</td>\n      <td>8</td>\n      <td>5</td>\n      <td>72.0</td>\n    </tr>\n  </tbody>\n</table>\n</div>"
     },
     "metadata": {},
     "execution_count": 683
    }
   ],
   "source": [
    "# removing the coded features from our original dataframe \n",
    "\n",
    "df_num = df.drop(df[cat_features],axis = 1)\n",
    "df_num.head()"
   ]
  },
  {
   "cell_type": "code",
   "execution_count": 684,
   "metadata": {},
   "outputs": [],
   "source": [
    "# merging the df_num and enc_final\n",
    "final_df = pd.concat([df_num,enc_final],axis = 1)"
   ]
  },
  {
   "cell_type": "code",
   "execution_count": 685,
   "metadata": {},
   "outputs": [
    {
     "output_type": "stream",
     "name": "stdout",
     "text": [
      "total_no_features  26\n---------------------------\ncity_development_index                         float64\nexperience                                       int32\ncompany_size                                     int32\nlast_new_job                                     int32\ntraining_hours                                 float64\ngender_Female                                    uint8\ngender_Male                                      uint8\ngender_Other                                     uint8\nrelevent_experience_Has relevent experience      uint8\nenrolled_university_Full time course             uint8\nenrolled_university_Part time course             uint8\neducation_level_Graduate                         uint8\neducation_level_High School                      uint8\neducation_level_Masters                          uint8\neducation_level_Primary School                   uint8\nmajor_discipline_Arts                            uint8\nmajor_discipline_Business Degree                 uint8\nmajor_discipline_Humanities                      uint8\nmajor_discipline_No Major                        uint8\nmajor_discipline_STEM                            uint8\ncompany_type_Early Stage Startup                 uint8\ncompany_type_Funded Startup                      uint8\ncompany_type_NGO                                 uint8\ncompany_type_Public Sector                       uint8\ncompany_type_Pvt Ltd                             uint8\ncompany_type_Unkn_type                           uint8\ndtype: object\n"
     ]
    }
   ],
   "source": [
    "# checking the dtypes \n",
    "print('total_no_features ' , len(final_df.dtypes))\n",
    "print('---------------------------')\n",
    "print(final_df.dtypes)"
   ]
  },
  {
   "source": [
    "# 7. Final DataFrame"
   ],
   "cell_type": "markdown",
   "metadata": {}
  },
  {
   "cell_type": "code",
   "execution_count": 686,
   "metadata": {},
   "outputs": [
    {
     "output_type": "execute_result",
     "data": {
      "text/plain": [
       "   city_development_index  ...  company_type_Unkn_type\n",
       "0                   0.827  ...                       1\n",
       "1                   0.920  ...                       0\n",
       "2                   0.624  ...                       0\n",
       "3                   0.827  ...                       0\n",
       "4                   0.920  ...                       0\n",
       "5                   0.899  ...                       1\n",
       "6                   0.624  ...                       0\n",
       "7                   0.920  ...                       1\n",
       "8                   0.878  ...                       1\n",
       "9                   0.624  ...                       0\n",
       "\n",
       "[10 rows x 26 columns]"
      ],
      "text/html": "<div>\n<style scoped>\n    .dataframe tbody tr th:only-of-type {\n        vertical-align: middle;\n    }\n\n    .dataframe tbody tr th {\n        vertical-align: top;\n    }\n\n    .dataframe thead th {\n        text-align: right;\n    }\n</style>\n<table border=\"1\" class=\"dataframe\">\n  <thead>\n    <tr style=\"text-align: right;\">\n      <th></th>\n      <th>city_development_index</th>\n      <th>experience</th>\n      <th>company_size</th>\n      <th>last_new_job</th>\n      <th>training_hours</th>\n      <th>gender_Female</th>\n      <th>gender_Male</th>\n      <th>gender_Other</th>\n      <th>relevent_experience_Has relevent experience</th>\n      <th>enrolled_university_Full time course</th>\n      <th>enrolled_university_Part time course</th>\n      <th>education_level_Graduate</th>\n      <th>education_level_High School</th>\n      <th>education_level_Masters</th>\n      <th>education_level_Primary School</th>\n      <th>major_discipline_Arts</th>\n      <th>major_discipline_Business Degree</th>\n      <th>major_discipline_Humanities</th>\n      <th>major_discipline_No Major</th>\n      <th>major_discipline_STEM</th>\n      <th>company_type_Early Stage Startup</th>\n      <th>company_type_Funded Startup</th>\n      <th>company_type_NGO</th>\n      <th>company_type_Public Sector</th>\n      <th>company_type_Pvt Ltd</th>\n      <th>company_type_Unkn_type</th>\n    </tr>\n  </thead>\n  <tbody>\n    <tr>\n      <th>0</th>\n      <td>0.827</td>\n      <td>9</td>\n      <td>1</td>\n      <td>1</td>\n      <td>21.0</td>\n      <td>0</td>\n      <td>1</td>\n      <td>0</td>\n      <td>1</td>\n      <td>1</td>\n      <td>0</td>\n      <td>1</td>\n      <td>0</td>\n      <td>0</td>\n      <td>0</td>\n      <td>0</td>\n      <td>0</td>\n      <td>0</td>\n      <td>0</td>\n      <td>1</td>\n      <td>0</td>\n      <td>0</td>\n      <td>0</td>\n      <td>0</td>\n      <td>0</td>\n      <td>1</td>\n    </tr>\n    <tr>\n      <th>1</th>\n      <td>0.920</td>\n      <td>5</td>\n      <td>4</td>\n      <td>1</td>\n      <td>98.0</td>\n      <td>1</td>\n      <td>0</td>\n      <td>0</td>\n      <td>1</td>\n      <td>0</td>\n      <td>0</td>\n      <td>1</td>\n      <td>0</td>\n      <td>0</td>\n      <td>0</td>\n      <td>0</td>\n      <td>0</td>\n      <td>0</td>\n      <td>0</td>\n      <td>1</td>\n      <td>0</td>\n      <td>0</td>\n      <td>0</td>\n      <td>0</td>\n      <td>1</td>\n      <td>0</td>\n    </tr>\n    <tr>\n      <th>2</th>\n      <td>0.624</td>\n      <td>0</td>\n      <td>4</td>\n      <td>0</td>\n      <td>15.0</td>\n      <td>0</td>\n      <td>1</td>\n      <td>0</td>\n      <td>0</td>\n      <td>0</td>\n      <td>0</td>\n      <td>0</td>\n      <td>1</td>\n      <td>0</td>\n      <td>0</td>\n      <td>0</td>\n      <td>0</td>\n      <td>0</td>\n      <td>0</td>\n      <td>1</td>\n      <td>0</td>\n      <td>0</td>\n      <td>0</td>\n      <td>0</td>\n      <td>1</td>\n      <td>0</td>\n    </tr>\n    <tr>\n      <th>3</th>\n      <td>0.827</td>\n      <td>11</td>\n      <td>2</td>\n      <td>1</td>\n      <td>39.0</td>\n      <td>0</td>\n      <td>1</td>\n      <td>0</td>\n      <td>1</td>\n      <td>0</td>\n      <td>0</td>\n      <td>0</td>\n      <td>0</td>\n      <td>1</td>\n      <td>0</td>\n      <td>0</td>\n      <td>0</td>\n      <td>0</td>\n      <td>0</td>\n      <td>1</td>\n      <td>0</td>\n      <td>0</td>\n      <td>0</td>\n      <td>0</td>\n      <td>1</td>\n      <td>0</td>\n    </tr>\n    <tr>\n      <th>4</th>\n      <td>0.920</td>\n      <td>21</td>\n      <td>8</td>\n      <td>5</td>\n      <td>72.0</td>\n      <td>0</td>\n      <td>1</td>\n      <td>0</td>\n      <td>1</td>\n      <td>0</td>\n      <td>0</td>\n      <td>1</td>\n      <td>0</td>\n      <td>0</td>\n      <td>0</td>\n      <td>0</td>\n      <td>0</td>\n      <td>0</td>\n      <td>0</td>\n      <td>1</td>\n      <td>0</td>\n      <td>0</td>\n      <td>0</td>\n      <td>0</td>\n      <td>1</td>\n      <td>0</td>\n    </tr>\n    <tr>\n      <th>5</th>\n      <td>0.899</td>\n      <td>10</td>\n      <td>4</td>\n      <td>2</td>\n      <td>12.0</td>\n      <td>0</td>\n      <td>1</td>\n      <td>0</td>\n      <td>0</td>\n      <td>0</td>\n      <td>1</td>\n      <td>0</td>\n      <td>0</td>\n      <td>1</td>\n      <td>0</td>\n      <td>0</td>\n      <td>0</td>\n      <td>0</td>\n      <td>0</td>\n      <td>1</td>\n      <td>0</td>\n      <td>0</td>\n      <td>0</td>\n      <td>0</td>\n      <td>0</td>\n      <td>1</td>\n    </tr>\n    <tr>\n      <th>6</th>\n      <td>0.624</td>\n      <td>0</td>\n      <td>4</td>\n      <td>1</td>\n      <td>11.0</td>\n      <td>0</td>\n      <td>0</td>\n      <td>0</td>\n      <td>1</td>\n      <td>0</td>\n      <td>0</td>\n      <td>1</td>\n      <td>0</td>\n      <td>0</td>\n      <td>0</td>\n      <td>0</td>\n      <td>0</td>\n      <td>0</td>\n      <td>0</td>\n      <td>1</td>\n      <td>0</td>\n      <td>0</td>\n      <td>0</td>\n      <td>0</td>\n      <td>1</td>\n      <td>0</td>\n    </tr>\n    <tr>\n      <th>7</th>\n      <td>0.920</td>\n      <td>21</td>\n      <td>4</td>\n      <td>5</td>\n      <td>81.0</td>\n      <td>1</td>\n      <td>0</td>\n      <td>0</td>\n      <td>1</td>\n      <td>0</td>\n      <td>0</td>\n      <td>1</td>\n      <td>0</td>\n      <td>0</td>\n      <td>0</td>\n      <td>0</td>\n      <td>0</td>\n      <td>0</td>\n      <td>0</td>\n      <td>1</td>\n      <td>0</td>\n      <td>0</td>\n      <td>0</td>\n      <td>0</td>\n      <td>0</td>\n      <td>1</td>\n    </tr>\n    <tr>\n      <th>8</th>\n      <td>0.878</td>\n      <td>14</td>\n      <td>4</td>\n      <td>4</td>\n      <td>2.0</td>\n      <td>0</td>\n      <td>1</td>\n      <td>0</td>\n      <td>1</td>\n      <td>0</td>\n      <td>0</td>\n      <td>1</td>\n      <td>0</td>\n      <td>0</td>\n      <td>0</td>\n      <td>0</td>\n      <td>0</td>\n      <td>0</td>\n      <td>0</td>\n      <td>1</td>\n      <td>0</td>\n      <td>0</td>\n      <td>0</td>\n      <td>0</td>\n      <td>0</td>\n      <td>1</td>\n    </tr>\n    <tr>\n      <th>9</th>\n      <td>0.624</td>\n      <td>3</td>\n      <td>3</td>\n      <td>1</td>\n      <td>4.0</td>\n      <td>0</td>\n      <td>1</td>\n      <td>0</td>\n      <td>1</td>\n      <td>1</td>\n      <td>0</td>\n      <td>1</td>\n      <td>0</td>\n      <td>0</td>\n      <td>0</td>\n      <td>0</td>\n      <td>0</td>\n      <td>0</td>\n      <td>0</td>\n      <td>1</td>\n      <td>0</td>\n      <td>1</td>\n      <td>0</td>\n      <td>0</td>\n      <td>0</td>\n      <td>0</td>\n    </tr>\n  </tbody>\n</table>\n</div>"
     },
     "metadata": {},
     "execution_count": 686
    }
   ],
   "source": [
    "final_df.head(10)"
   ]
  }
 ]
}